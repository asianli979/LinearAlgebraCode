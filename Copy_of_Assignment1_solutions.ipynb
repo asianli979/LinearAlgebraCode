{
  "cells": [
    {
      "cell_type": "markdown",
      "metadata": {
        "id": "view-in-github",
        "colab_type": "text"
      },
      "source": [
        "<a href=\"https://colab.research.google.com/github/asianli979/LinearAlgebraCode/blob/master/Copy_of_Assignment1_solutions.ipynb\" target=\"_parent\"><img src=\"https://colab.research.google.com/assets/colab-badge.svg\" alt=\"Open In Colab\"/></a>"
      ]
    },
    {
      "cell_type": "code",
      "execution_count": null,
      "metadata": {
        "id": "Ru3KUz4li39k"
      },
      "outputs": [],
      "source": [
        "# Jacob Chodoriwsky\n",
        "\n",
        "import sympy as sp\n",
        "import numpy as np\n",
        "import math"
      ]
    },
    {
      "cell_type": "markdown",
      "metadata": {
        "id": "o7mMNu61i39m"
      },
      "source": [
        "\n",
        "# Question 1"
      ]
    },
    {
      "cell_type": "code",
      "execution_count": null,
      "metadata": {
        "colab": {
          "base_uri": "https://localhost:8080/",
          "height": 78
        },
        "id": "u8WQk-60i39n",
        "outputId": "1692058d-75a7-4c5d-ee1f-60d52c5da359"
      },
      "outputs": [
        {
          "output_type": "execute_result",
          "data": {
            "text/latex": "$\\displaystyle \\left[\\begin{matrix}2 & 3 & -1 & -2\\\\4 a & 6 a & - 2 a & - 4 a\\\\4 - 4 a & 6 - 6 a & 2 a - 2 & 4 a - 4\\end{matrix}\\right]$",
            "text/plain": [
              "Matrix([\n",
              "[      2,       3,      -1,      -2],\n",
              "[    4*a,     6*a,    -2*a,    -4*a],\n",
              "[4 - 4*a, 6 - 6*a, 2*a - 2, 4*a - 4]])"
            ]
          },
          "metadata": {},
          "execution_count": 10
        }
      ],
      "source": [
        "# Define the matrix as given. \n",
        "a = sp.symbols('a')\n",
        "A = sp.Matrix([[2,3,-1,-2], [4*a,6*a,-2*a,-4*a], [4-4*a,6-6*a,2*a-2,4*a-4]])\n",
        "\n",
        "A"
      ]
    },
    {
      "cell_type": "code",
      "execution_count": null,
      "metadata": {
        "colab": {
          "base_uri": "https://localhost:8080/"
        },
        "id": "okeegevji39o",
        "outputId": "040963c0-0cd4-4250-b895-49ff70cf725e"
      },
      "outputs": [
        {
          "output_type": "execute_result",
          "data": {
            "text/plain": [
              "(Matrix([\n",
              " [1, 3/2, -1/2, -1],\n",
              " [0,   0,    0,  0],\n",
              " [0,   0,    0,  0]]), (0,))"
            ]
          },
          "metadata": {},
          "execution_count": 11
        }
      ],
      "source": [
        "# Get RREF, there is only one nonzero row in RREF so the rank is 1. \n",
        "A.rref()"
      ]
    },
    {
      "cell_type": "markdown",
      "metadata": {
        "id": "jR20hzRXi39o"
      },
      "source": [
        "# Question 2"
      ]
    },
    {
      "cell_type": "markdown",
      "source": [
        "# NOTE: \n",
        "There was a typo in answer. Based on the following analysis if you choose either of the following answers you received mark\n",
        "\n",
        "- each bacon strip costs about $0.99\n",
        "\n",
        "- each avocado costs about $1.19"
      ],
      "metadata": {
        "id": "CRR5qHEYybxw"
      }
    },
    {
      "cell_type": "markdown",
      "metadata": {
        "id": "zx8F16LMi39o"
      },
      "source": [
        "<p>Four guys ordered four custom burgers at a restaurant that has specific prices per topping. The bun and patty cost $2.44. \n",
        "\n",
        "•\tMike’s burger cost $8.44 and had 2 avocados, 5 bacon strips, and 3 cheese slices. \n",
        "\n",
        "•\tGina’s burger cost $7.53 and had 3 avocados, 4 cheese slices, and 2 dill pickles. \n",
        "\n",
        "•\tTim’s burger cost $6.89 and had 2 bacon strips, one cheese slices, and 4 dill pickles. \n",
        "\n",
        "•\tLana’s burger cost $9.02 and had 4 avocados, 2 bacon strips, and a dill pickles. \n",
        "\n",
        "What is the per-topping cost of each topping above? Round to the nearest cent.  </p>\n"
      ]
    },
    {
      "cell_type": "markdown",
      "metadata": {
        "id": "HRBGVpLZi39p"
      },
      "source": [
        "Let $a, b, c, d$ represent the cost per avocado, bacon strip, cheese slice, and dill pickle, respectively. Then: \n",
        "\n",
        "$$2a + 5b + 3c = 8.44$$\n",
        "$$3a + 4c + 2d = 7.53$$\n",
        "$$2b + c + 4d = 6.89$$\n",
        "$$4a + 2b + d=9.02$$"
      ]
    },
    {
      "cell_type": "code",
      "execution_count": null,
      "metadata": {
        "colab": {
          "base_uri": "https://localhost:8080/",
          "height": 98
        },
        "id": "5vPYWTUmi39p",
        "outputId": "c82a47ba-f933-47e6-f4c0-d62cc42f41dd"
      },
      "outputs": [
        {
          "output_type": "execute_result",
          "data": {
            "text/latex": "$\\displaystyle \\left[\\begin{matrix}2 & 5 & 3 & 0 & 8.44\\\\3 & 0 & 4 & 2 & 7.53\\\\0 & 2 & 1 & 4 & 6.89\\\\4 & 2 & 0 & 1 & 9.02\\end{matrix}\\right]$",
            "text/plain": [
              "Matrix([\n",
              "[2, 5, 3, 0, 8.44],\n",
              "[3, 0, 4, 2, 7.53],\n",
              "[0, 2, 1, 4, 6.89],\n",
              "[4, 2, 0, 1, 9.02]])"
            ]
          },
          "metadata": {},
          "execution_count": 12
        }
      ],
      "source": [
        "aug = sp.Matrix([[2,5,3,0,8.44], [3,0,4,2,7.53], [0,2,1,4,6.89], [4,2,0,1,9.02]])\n",
        "aug"
      ]
    },
    {
      "cell_type": "code",
      "execution_count": null,
      "metadata": {
        "colab": {
          "base_uri": "https://localhost:8080/"
        },
        "id": "EmAk_NOPi39p",
        "outputId": "f1192f44-22d8-4ca0-bbe8-cfb597414143"
      },
      "outputs": [
        {
          "output_type": "execute_result",
          "data": {
            "text/plain": [
              "(Matrix([\n",
              " [1, 0, 0, 0,  1.46652661064426],\n",
              " [0, 1, 0, 0,  0.98624649859944],\n",
              " [0, 0, 1, 0, 0.191904761904762],\n",
              " [0, 0, 0, 1,  1.18140056022409]]), (0, 1, 2, 3))"
            ]
          },
          "metadata": {},
          "execution_count": 13
        }
      ],
      "source": [
        "aug.rref()"
      ]
    },
    {
      "cell_type": "markdown",
      "metadata": {
        "id": "6UofhHkYi39q"
      },
      "source": [
        "<p>From the RREF of the augmented matrix for the system, we see that: </p>\n",
        "    \n",
        "    - each avocado costs about $1.47 \n",
        "    \n",
        "    - each bacon strip costs about $0.99  (closest value to 0.99)\n",
        "    \n",
        "    - each cheese slice costs about $0.19\n",
        "    \n",
        "    - and each dill pickle costs about $1.18"
      ]
    },
    {
      "cell_type": "markdown",
      "source": [
        "If you subtract bun and patty cost $2.44 from the burger:\n",
        "\n",
        "$$2a + 5b + 3c = 6$$\n",
        "$$3a + 4c + 2d = 5.09$$\n",
        "$$2b + c + 4d = 4.45$$\n",
        "$$4a + 2b + d= 6.58$$"
      ],
      "metadata": {
        "id": "40tyqa2hwv2s"
      }
    },
    {
      "cell_type": "code",
      "source": [
        "aug = sp.Matrix([[2,5,3,0,6], [3,0,4,2,5.09], [0,2,1,4,4.45], [4,2,0,1,6.58]])\n",
        "aug"
      ],
      "metadata": {
        "colab": {
          "base_uri": "https://localhost:8080/",
          "height": 98
        },
        "id": "PQ8lcLSswu-Q",
        "outputId": "5f6f0cf5-d0a4-4efd-ff8e-f4f8c82b80e1"
      },
      "execution_count": null,
      "outputs": [
        {
          "output_type": "execute_result",
          "data": {
            "text/latex": "$\\displaystyle \\left[\\begin{matrix}2 & 5 & 3 & 0 & 6\\\\3 & 0 & 4 & 2 & 5.09\\\\0 & 2 & 1 & 4 & 4.45\\\\4 & 2 & 0 & 1 & 6.58\\end{matrix}\\right]$",
            "text/plain": [
              "Matrix([\n",
              "[2, 5, 3, 0,    6],\n",
              "[3, 0, 4, 2, 5.09],\n",
              "[0, 2, 1, 4, 4.45],\n",
              "[4, 2, 0, 1, 6.58]])"
            ]
          },
          "metadata": {},
          "execution_count": 14
        }
      ]
    },
    {
      "cell_type": "code",
      "source": [
        "aug.rref()"
      ],
      "metadata": {
        "colab": {
          "base_uri": "https://localhost:8080/"
        },
        "id": "tBoRMD53xlx5",
        "outputId": "b78e882f-bc69-4b36-980f-61cb10dac73b"
      },
      "execution_count": null,
      "outputs": [
        {
          "output_type": "execute_result",
          "data": {
            "text/plain": [
              "(Matrix([\n",
              " [1, 0, 0, 0,   1.10428571428571],\n",
              " [0, 1, 0, 0,  0.712857142857143],\n",
              " [0, 0, 1, 0, 0.0757142857142862],\n",
              " [0, 0, 0, 1,  0.737142857142857]]), (0, 1, 2, 3))"
            ]
          },
          "metadata": {},
          "execution_count": 15
        }
      ]
    },
    {
      "cell_type": "markdown",
      "source": [
        "    - each avocado costs about $1.10  (closest value to 1.19)\n",
        "    \n",
        "    - each bacon strip costs about $0.71\n",
        "    \n",
        "    - each cheese slice costs about $0.08\n",
        "    \n",
        "    - and each dill pickle costs about $0.73"
      ],
      "metadata": {
        "id": "RYBbmKL2xsVg"
      }
    },
    {
      "cell_type": "markdown",
      "metadata": {
        "id": "5jIJEVrZi39q"
      },
      "source": [
        "# Question 3"
      ]
    },
    {
      "cell_type": "markdown",
      "metadata": {
        "id": "0j92RCvTi39q"
      },
      "source": [
        "Suppose $A,B,C,$ and $D$ are all $2×2$ matrices. Find an expression for $B$ if $(A + B^T)C^{-1} = D$.\n",
        "\n",
        "Right-multiply by $C^{-1}$:\n",
        "\n",
        "$(A + B^T)C^{-1}C = DC$\n",
        "\n",
        "$A + B^T = DC$\n",
        "\n",
        "Subtract $A$: \n",
        "\n",
        "$A + B^T - A = DC - A$\n",
        "\n",
        "$B^T = DC - A$\n",
        "\n",
        "Transpose: \n",
        "\n",
        "$(B^T)^T = (DC - A)^T$\n",
        "\n",
        "$B = (DC - A)^T$"
      ]
    },
    {
      "cell_type": "markdown",
      "metadata": {
        "id": "FvqjNvKji39r"
      },
      "source": [
        "# Question 4\n",
        "Is the inverse of the given matrix a scalar multiple of $I_2$? Explain."
      ]
    },
    {
      "cell_type": "code",
      "execution_count": null,
      "metadata": {
        "colab": {
          "base_uri": "https://localhost:8080/",
          "height": 58
        },
        "id": "f7_yr46ui39r",
        "outputId": "167b71ee-1873-4def-8fc2-0e58b338d56d"
      },
      "outputs": [
        {
          "output_type": "execute_result",
          "data": {
            "text/latex": "$\\displaystyle \\left[\\begin{matrix}0 & \\frac{1}{x}\\\\\\frac{1}{x} & 0\\end{matrix}\\right]$",
            "text/plain": [
              "Matrix([\n",
              "[  0, 1/x],\n",
              "[1/x,   0]])"
            ]
          },
          "metadata": {},
          "execution_count": 16
        }
      ],
      "source": [
        "x = sp.symbols('x')\n",
        "M = sp.Matrix([[0, 1/x], [1/x, 0]])\n",
        "M"
      ]
    },
    {
      "cell_type": "code",
      "execution_count": null,
      "metadata": {
        "colab": {
          "base_uri": "https://localhost:8080/",
          "height": 57
        },
        "id": "bI6wH88ii39r",
        "outputId": "afa7af22-7010-4257-d1de-5185e9d927c5"
      },
      "outputs": [
        {
          "output_type": "execute_result",
          "data": {
            "text/latex": "$\\displaystyle \\left[\\begin{matrix}0 & x\\\\x & 0\\end{matrix}\\right]$",
            "text/plain": [
              "Matrix([\n",
              "[0, x],\n",
              "[x, 0]])"
            ]
          },
          "metadata": {},
          "execution_count": 17
        }
      ],
      "source": [
        "M.inv()"
      ]
    },
    {
      "cell_type": "code",
      "execution_count": null,
      "metadata": {
        "scrolled": true,
        "colab": {
          "base_uri": "https://localhost:8080/",
          "height": 57
        },
        "id": "lDJsXdNPi39r",
        "outputId": "6cea2f18-be27-4f49-e653-7bd256b3c6fd"
      },
      "outputs": [
        {
          "output_type": "execute_result",
          "data": {
            "text/latex": "$\\displaystyle \\left[\\begin{matrix}0 & 1\\\\1 & 0\\end{matrix}\\right]$",
            "text/plain": [
              "Matrix([\n",
              "[0, 1],\n",
              "[1, 0]])"
            ]
          },
          "metadata": {},
          "execution_count": 18
        }
      ],
      "source": [
        "M.inv()/x"
      ]
    },
    {
      "cell_type": "code",
      "execution_count": null,
      "metadata": {
        "colab": {
          "base_uri": "https://localhost:8080/",
          "height": 57
        },
        "id": "7dteV2Q7i39s",
        "outputId": "9f8fb0e5-2f2c-44e4-c58d-1f0f993972ab"
      },
      "outputs": [
        {
          "output_type": "execute_result",
          "data": {
            "text/latex": "$\\displaystyle \\left[\\begin{matrix}1 & 0\\\\0 & 1\\end{matrix}\\right]$",
            "text/plain": [
              "Matrix([\n",
              "[1, 0],\n",
              "[0, 1]])"
            ]
          },
          "metadata": {},
          "execution_count": 19
        }
      ],
      "source": [
        "I = sp.Matrix([[1,0], [0,1]])\n",
        "I"
      ]
    },
    {
      "cell_type": "code",
      "execution_count": null,
      "metadata": {
        "colab": {
          "base_uri": "https://localhost:8080/"
        },
        "id": "2eQc6ufCi39s",
        "outputId": "68f439db-0478-4d05-a29e-f00c82f954f8"
      },
      "outputs": [
        {
          "output_type": "execute_result",
          "data": {
            "text/plain": [
              "False"
            ]
          },
          "metadata": {},
          "execution_count": 20
        }
      ],
      "source": [
        "M.inv()/x == I"
      ]
    },
    {
      "cell_type": "markdown",
      "metadata": {
        "id": "CjaRzWSXi39t"
      },
      "source": [
        "<p># The given matrix is a scalar multiple of a non-identity matrix that looks a lot like I, but is not I. </p>"
      ]
    },
    {
      "cell_type": "markdown",
      "metadata": {
        "id": "9KZegorGi39t"
      },
      "source": [
        "# Question 5"
      ]
    },
    {
      "cell_type": "code",
      "execution_count": null,
      "metadata": {
        "colab": {
          "base_uri": "https://localhost:8080/"
        },
        "id": "4HIBhIfNi39t",
        "outputId": "772894e6-c626-4144-dda5-1e4c1bf81420"
      },
      "outputs": [
        {
          "output_type": "execute_result",
          "data": {
            "text/plain": [
              "array([[1., 1., 1., 2., 1.],\n",
              "       [1., 2., 1., 1., 1.],\n",
              "       [1., 1., 1., 1., 1.],\n",
              "       [2., 1., 1., 1., 1.],\n",
              "       [1., 1., 1., 1., 1.]])"
            ]
          },
          "metadata": {},
          "execution_count": 21
        }
      ],
      "source": [
        "A = np.ones((5,5))\n",
        "A[0,3] = 2\n",
        "A[1,1] = 2\n",
        "A[3,0] = 2\n",
        "\n",
        "A"
      ]
    },
    {
      "cell_type": "code",
      "execution_count": null,
      "metadata": {
        "colab": {
          "base_uri": "https://localhost:8080/"
        },
        "id": "4KftuNC6i39t",
        "outputId": "cd3ef07b-fb1a-4470-b37e-cb0dd33294a4"
      },
      "outputs": [
        {
          "output_type": "execute_result",
          "data": {
            "text/plain": [
              "array([[2., 2., 2., 1., 2.],\n",
              "       [2., 1., 2., 2., 2.],\n",
              "       [2., 2., 2., 2., 2.],\n",
              "       [1., 2., 2., 2., 2.],\n",
              "       [2., 2., 2., 2., 2.]])"
            ]
          },
          "metadata": {},
          "execution_count": 22
        }
      ],
      "source": [
        "B = 3 - A.T\n",
        "B"
      ]
    },
    {
      "cell_type": "code",
      "execution_count": null,
      "metadata": {
        "colab": {
          "base_uri": "https://localhost:8080/"
        },
        "id": "ekHamB7Yi39u",
        "outputId": "0e20d070-8d5c-430e-9e50-998833630685"
      },
      "outputs": [
        {
          "output_type": "execute_result",
          "data": {
            "text/plain": [
              "[-2, 0, 5, 1, 3]"
            ]
          },
          "metadata": {},
          "execution_count": 23
        }
      ],
      "source": [
        "b = [-2,0,5,1,3]\n",
        "b"
      ]
    },
    {
      "cell_type": "code",
      "execution_count": null,
      "metadata": {
        "colab": {
          "base_uri": "https://localhost:8080/"
        },
        "id": "sqLG2ntki39u",
        "outputId": "2d349c1a-4b1c-45bf-c2ac-9108a0e1f1a5"
      },
      "outputs": [
        {
          "output_type": "execute_result",
          "data": {
            "text/plain": [
              "array([[10., 11., 12., 11., 12.],\n",
              "       [11., 10., 12., 11., 12.],\n",
              "       [ 9.,  9., 10.,  9., 10.],\n",
              "       [11., 11., 12., 10., 12.],\n",
              "       [ 9.,  9., 10.,  9., 10.]])"
            ]
          },
          "metadata": {},
          "execution_count": 24
        }
      ],
      "source": [
        "C = AB = np.dot(A,B)\n",
        "C"
      ]
    },
    {
      "cell_type": "code",
      "execution_count": null,
      "metadata": {
        "colab": {
          "base_uri": "https://localhost:8080/"
        },
        "id": "kN8YEErYi39u",
        "outputId": "7b178b6f-e9d1-4ba2-f174-51d38f5c72db"
      },
      "outputs": [
        {
          "output_type": "execute_result",
          "data": {
            "text/plain": [
              "0.0"
            ]
          },
          "metadata": {},
          "execution_count": 25
        }
      ],
      "source": [
        "np.linalg.det(AB)"
      ]
    },
    {
      "cell_type": "markdown",
      "source": [
        "The determinat of A is Zero, and the answer does NOT exist for $x$. You can also calculate RREF and get to the same conclusion."
      ],
      "metadata": {
        "id": "P8r6Gsuwjdqj"
      }
    },
    {
      "cell_type": "markdown",
      "metadata": {
        "id": "VMQXbpszi39u"
      },
      "source": [
        "# Question 6"
      ]
    },
    {
      "cell_type": "code",
      "execution_count": null,
      "metadata": {
        "colab": {
          "base_uri": "https://localhost:8080/",
          "height": 78
        },
        "id": "eZv7BdWbi39v",
        "outputId": "a4542526-3ec4-4c23-d382-d4ef4a97a58b"
      },
      "outputs": [
        {
          "output_type": "execute_result",
          "data": {
            "text/latex": "$\\displaystyle \\left[\\begin{matrix}2\\\\5\\\\x\\end{matrix}\\right]$",
            "text/plain": [
              "Matrix([\n",
              "[2],\n",
              "[5],\n",
              "[x]])"
            ]
          },
          "metadata": {},
          "execution_count": 26
        }
      ],
      "source": [
        "r = sp.Matrix([2,5,x])\n",
        "r"
      ]
    },
    {
      "cell_type": "markdown",
      "metadata": {
        "id": "NY9Y8h30i39v"
      },
      "source": [
        "$|r|=\\sqrt{2^2 + 5^2 + x^2}$\n",
        "\n",
        "$|r| = \\sqrt{29 + x^2}$\n",
        "\n",
        "$6 = \\sqrt{29 + x^2}$\n",
        "\n",
        "$36 = 29 + x^2$\n",
        "\n",
        "$x^2 = 7$\n",
        "\n",
        "$x = \\pm \\sqrt{7}$"
      ]
    },
    {
      "cell_type": "markdown",
      "metadata": {
        "id": "iU_uvUv3i39v"
      },
      "source": [
        "# Question 7\n",
        "\n",
        "Line 1: \n",
        "\n",
        "$x_1 = 1 + 5t$\n",
        "\n",
        "$y_1 = -7 + 4t$\n",
        "\n",
        "$z_1 = 2 - 3t$\n",
        "\n",
        "Line 2: \n",
        "\n",
        "$x_2 = 2 - s$\n",
        "\n",
        "$y_2 = -16 + 2s$\n",
        "\n",
        "$z_2 = s$\n",
        "\n",
        "Equate:\n",
        "\n",
        "$1 + 5t = 2 - s$ simplifies to $s + 5t = 1$\n",
        "\n",
        "$-7 + 4t = -1 + 2s$ simplifies to $-2s + 4t = 6$\n",
        "\n",
        "$2 - 3t = s$ simplifies to $s + 3t = 2$"
      ]
    },
    {
      "cell_type": "code",
      "execution_count": null,
      "metadata": {
        "colab": {
          "base_uri": "https://localhost:8080/",
          "height": 78
        },
        "id": "xJ-_v-9wi39v",
        "outputId": "51e623f8-0196-45d0-a915-636eeb90e5c3"
      },
      "outputs": [
        {
          "output_type": "execute_result",
          "data": {
            "text/latex": "$\\displaystyle \\left[\\begin{matrix}1 & 5 & 1\\\\2 & -4 & 9\\\\1 & 3 & 2\\end{matrix}\\right]$",
            "text/plain": [
              "Matrix([\n",
              "[1,  5, 1],\n",
              "[2, -4, 9],\n",
              "[1,  3, 2]])"
            ]
          },
          "metadata": {},
          "execution_count": 27
        }
      ],
      "source": [
        "[s,t] = sp.symbols('s,t')\n",
        "\n",
        "M = sp.Matrix([[1,5,1], [2,-4,9], [1,3,2]])\n",
        "M"
      ]
    },
    {
      "cell_type": "code",
      "execution_count": null,
      "metadata": {
        "colab": {
          "base_uri": "https://localhost:8080/"
        },
        "id": "idlcZtoei39w",
        "outputId": "460f81ae-f4bc-49f2-c91f-e3436b9a8c0b"
      },
      "outputs": [
        {
          "output_type": "execute_result",
          "data": {
            "text/plain": [
              "(Matrix([\n",
              " [1, 0,  7/2],\n",
              " [0, 1, -1/2],\n",
              " [0, 0,    0]]), (0, 1))"
            ]
          },
          "metadata": {},
          "execution_count": 28
        }
      ],
      "source": [
        "M.rref()"
      ]
    },
    {
      "cell_type": "markdown",
      "metadata": {
        "id": "zqlpIydSi39w"
      },
      "source": [
        "We have a unique solution for $s,t$. The lines intersect where $s=7/2$ and $t=-1/2$. \n",
        "\n",
        "Substitute $s$ into Line 2 or $t$ into line 1 to get: \n",
        "\n",
        "$x = 1 + 5(-1/2)$\n",
        "\n",
        "$x = -3/2$\n",
        "\n",
        "$y = -7 + 4(-1/2)$\n",
        "\n",
        "$y = -9$\n",
        "\n",
        "$z = 2 - 3(-1/2)$\n",
        "\n",
        "$z = 7/2$\n",
        "\n",
        "The lines cross at the point $(-3/2, -9, 7/2)$. "
      ]
    }
  ],
  "metadata": {
    "kernelspec": {
      "display_name": "Python 3",
      "language": "python",
      "name": "python3"
    },
    "language_info": {
      "codemirror_mode": {
        "name": "ipython",
        "version": 3
      },
      "file_extension": ".py",
      "mimetype": "text/x-python",
      "name": "python",
      "nbconvert_exporter": "python",
      "pygments_lexer": "ipython3",
      "version": "3.7.3"
    },
    "colab": {
      "name": "Copy of Assignment1-solutions.ipynb",
      "provenance": [],
      "include_colab_link": true
    }
  },
  "nbformat": 4,
  "nbformat_minor": 0
}